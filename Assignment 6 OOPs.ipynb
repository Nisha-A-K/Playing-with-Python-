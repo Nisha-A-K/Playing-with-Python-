{
 "cells": [
  {
   "cell_type": "code",
   "execution_count": 1,
   "id": "7f5ab5cc-3659-41aa-82d3-019ebb5a2c26",
   "metadata": {},
   "outputs": [
    {
     "data": {
      "text/plain": [
       "'Build a program to manage a university\\'s course catalog. \\nYou want to define a base class Course that has the following properties:\\ncourse_code: a string representing the course code (e.g., \"CS101\")\\ncourse_name: a string representing the course name (e.g., \"Introduction to Computer Science\")\\ncredit_hours: an integer representing the credit hours for the course (e.g., 3)\\nYou also want to define two subclasses CoreCourse and ElectiveCourse, \\nwhich inherit from the Course class.\\nCoreCourse should have an additional property required_for_major which is a boolean representing \\nwhether the course is required for a particular major.\\nElectiveCourse should have an additional property elective_type which is a string representing\\nthe type of elective (e.g., \"general\", \"technical\", \"liberal arts\").'"
      ]
     },
     "execution_count": 1,
     "metadata": {},
     "output_type": "execute_result"
    }
   ],
   "source": [
    "\"\"\"Excercise 1 : Build a program to manage a university's course catalog. \n",
    "You want to define a base class Course that has the following properties:\n",
    "course_code: a string representing the course code (e.g., \"CS101\")\n",
    "course_name: a string representing the course name (e.g., \"Introduction to Computer Science\")\n",
    "credit_hours: an integer representing the credit hours for the course (e.g., 3)\n",
    "You also want to define two subclasses CoreCourse and ElectiveCourse, \n",
    "which inherit from the Course class.\n",
    "CoreCourse should have an additional property required_for_major which is a boolean representing \n",
    "whether the course is required for a particular major.\n",
    "ElectiveCourse should have an additional property elective_type which is a string representing\n",
    "the type of elective (e.g., \"general\", \"technical\", \"liberal arts\").\"\"\"\n"
   ]
  },
  {
   "cell_type": "code",
   "execution_count": 114,
   "id": "86afffae-a8d5-42b5-87a2-049d5241db3c",
   "metadata": {},
   "outputs": [],
   "source": [
    "class Course:\n",
    "    def __init__(self, course_code, course_name, credit_hours):\n",
    "        self.course_code = course_code\n",
    "        self.course_name = course_name\n",
    "        self.credit_hours = credit_hours\n",
    "        \n",
    "    def get_description(self):\n",
    "        return f\"Course: {self.course_name} Code: {self.course_code} Credits: {self.credit_hours}\"\n",
    "\n",
    "class CoreCourse(Course):\n",
    "    def __init__(self,course_code, course_name, credit_hours,major):\n",
    "        super().__init__(course_code, course_name, credit_hours)\n",
    "        self.major = major\n",
    "        \n",
    "    def get_description(self):\n",
    "        base_description = super().get_description()\n",
    "        return f\"{base_description} Status: {self.major}\"\n",
    "    \n",
    "class ElectiveCourse(Course):\n",
    "    def __init__(self,course_code, course_name, credit_hours,elective_type):\n",
    "        super().__init__(course_code, course_name, credit_hours)\n",
    "        self.elective_type = elective_type\n",
    "        \n",
    "    def get_description(self):\n",
    "        base_description = super().get_description()\n",
    "        return f\"{base_description} Type: {self.elective_type} elective\""
   ]
  },
  {
   "cell_type": "code",
   "execution_count": 92,
   "id": "5a2e3c69-9367-4394-9711-03f5d6576a26",
   "metadata": {},
   "outputs": [
    {
     "data": {
      "text/plain": [
       "'Course: Intro to Programming Code: CS101 Credits: 3'"
      ]
     },
     "execution_count": 92,
     "metadata": {},
     "output_type": "execute_result"
    }
   ],
   "source": [
    "basic_course = Course(\"CS101\", \"Intro to Programming\", 3)\n",
    "basic_course.get_description()"
   ]
  },
  {
   "cell_type": "code",
   "execution_count": 116,
   "id": "cd99c043-2b32-4dd2-b88d-81f1b230d3f5",
   "metadata": {},
   "outputs": [
    {
     "data": {
      "text/plain": [
       "'Course: Intro to Programming Code: CS101 Credits: 3 Status: True'"
      ]
     },
     "execution_count": 116,
     "metadata": {},
     "output_type": "execute_result"
    }
   ],
   "source": [
    "core_course = CoreCourse(\"CS101\", \"Intro to Programming\", 3, True)\n",
    "core_course.get_description()"
   ]
  },
  {
   "cell_type": "code",
   "execution_count": 118,
   "id": "88cd6ee1-c718-48da-ad3b-017a5d0101e6",
   "metadata": {},
   "outputs": [
    {
     "data": {
      "text/plain": [
       "'Course: Drawing Code: ART101 Credits: 3 Type: arts elective'"
      ]
     },
     "execution_count": 118,
     "metadata": {},
     "output_type": "execute_result"
    }
   ],
   "source": [
    "elective_course = ElectiveCourse(\"ART101\", \"Drawing\", 3, \"arts\")\n",
    "elective_course.get_description()"
   ]
  },
  {
   "cell_type": "code",
   "execution_count": null,
   "id": "d68a82d5-a31f-4fe9-988e-95414b49cc19",
   "metadata": {},
   "outputs": [],
   "source": []
  },
  {
   "cell_type": "code",
   "execution_count": null,
   "id": "b4e8023d-2861-4cde-94cd-9f4ada213d99",
   "metadata": {},
   "outputs": [],
   "source": []
  },
  {
   "cell_type": "code",
   "execution_count": null,
   "id": "3fea1fe8-b3c0-4dae-b5ae-f07a4e5472fa",
   "metadata": {},
   "outputs": [],
   "source": []
  }
 ],
 "metadata": {
  "kernelspec": {
   "display_name": "Python 3 (ipykernel)",
   "language": "python",
   "name": "python3"
  },
  "language_info": {
   "codemirror_mode": {
    "name": "ipython",
    "version": 3
   },
   "file_extension": ".py",
   "mimetype": "text/x-python",
   "name": "python",
   "nbconvert_exporter": "python",
   "pygments_lexer": "ipython3",
   "version": "3.12.4"
  }
 },
 "nbformat": 4,
 "nbformat_minor": 5
}
