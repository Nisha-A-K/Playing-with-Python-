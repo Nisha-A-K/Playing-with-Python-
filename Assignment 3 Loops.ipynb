{
 "cells": [
  {
   "cell_type": "code",
   "execution_count": 3,
   "id": "2cc5b9f7-659b-457b-a78e-638632167520",
   "metadata": {},
   "outputs": [],
   "source": [
    "#Exercise 1\n",
    "# Write a program that reads an integer value between 1 and 12 from the user and prints output the corresponding month of the year."
   ]
  },
  {
   "cell_type": "code",
   "execution_count": 21,
   "id": "875f74c9-7dbf-4533-ae04-e89b1be5c326",
   "metadata": {},
   "outputs": [
    {
     "name": "stdin",
     "output_type": "stream",
     "text": [
      "Enter a number between 1 to 12 indicating month 8\n"
     ]
    },
    {
     "name": "stdout",
     "output_type": "stream",
     "text": [
      "August\n"
     ]
    }
   ],
   "source": [
    "m = int(input(\"Enter a number between 1 to 12 indicating month\"))\n",
    "if m==1:\n",
    "    print(\"January\")\n",
    "elif m ==2:\n",
    "    print(\"February\")\n",
    "elif m ==3:\n",
    "     print(\"March\")\n",
    "elif m ==4:\n",
    "     print(\"April\")\n",
    "elif m ==5:\n",
    "     print(\"May\")\n",
    "elif m ==6:\n",
    "     print(\"June\")\n",
    "elif m ==7:\n",
    "     print(\"July\")\n",
    "elif m ==8:\n",
    "     print(\"August\")\n",
    "elif m ==9:\n",
    "     print(\"september\")\n",
    "elif m ==10:\n",
    "     print(\"October\")\n",
    "elif m ==11:\n",
    "     print(\"November\")\n",
    "elif m ==12:\n",
    "     print(\"December\")\n",
    "else:\n",
    "    print(\"Invalid input\")"
   ]
  },
  {
   "cell_type": "code",
   "execution_count": null,
   "id": "f1616876-9f41-4b62-b2d2-f9500ee78f7b",
   "metadata": {},
   "outputs": [],
   "source": []
  },
  {
   "cell_type": "code",
   "execution_count": 30,
   "id": "66e20e67-9003-4883-8c11-3594b571d383",
   "metadata": {},
   "outputs": [],
   "source": [
    "# Exercise 2\n",
    "\"\"\"A certain cinema currently sells tickets for a full price of 6 pounds, \n",
    "but always sells tickets for half price to people who are less than 16 years old, \n",
    "and for a third of the price for people who are 60 years old or more.\"\"\""
   ]
  },
  {
   "cell_type": "code",
   "execution_count": 38,
   "id": "947ea0c1-3fcf-4654-ade1-1568fbab1c19",
   "metadata": {},
   "outputs": [
    {
     "name": "stdout",
     "output_type": "stream",
     "text": [
      " Cinema ticket Rate Calculator\n"
     ]
    },
    {
     "name": "stdin",
     "output_type": "stream",
     "text": [
      "Enter your age 24\n"
     ]
    },
    {
     "name": "stdout",
     "output_type": "stream",
     "text": [
      " Ticket Rate £ 6\n"
     ]
    }
   ],
   "source": [
    "print(\" Cinema ticket Rate Calculator\")\n",
    "age = int(input(\"Enter your age\"))\n",
    "Ticket_Rate = 6\n",
    "if age<16:\n",
    "    Ticket_Rate = 0.5*Ticket_Rate\n",
    "    print(f\" Ticket Rate £ {Ticket_Rate}\")\n",
    "elif age>60:\n",
    "    Ticket_Rate = 0.33*Ticket_Rate\n",
    "    print(f\" Ticket Rate £ {Ticket_Rate}\")\n",
    "else:\n",
    "    print(f\" Ticket Rate £ {Ticket_Rate}\")\n"
   ]
  },
  {
   "cell_type": "code",
   "execution_count": null,
   "id": "57a07128-30d9-4bce-b850-d98cf2655ce6",
   "metadata": {},
   "outputs": [],
   "source": []
  },
  {
   "cell_type": "code",
   "execution_count": 41,
   "id": "6690268e-e40d-458a-97a2-0a005f703b3a",
   "metadata": {},
   "outputs": [],
   "source": [
    "# Exercise 3\n",
    "\"\"\" Write a program to calculate your BMI and give weight status. \n",
    "Body Mass Index (BMI) is an internationally used measurement to check if you are a healthy weight for your height.\n",
    "The metric BMI formula accepts weight in kilograms and height in meters:\"\"\"\n"
   ]
  },
  {
   "cell_type": "code",
   "execution_count": 65,
   "id": "239ff8cd-2510-4119-a748-8c4bb5989e52",
   "metadata": {},
   "outputs": [
    {
     "name": "stdout",
     "output_type": "stream",
     "text": [
      "BMI Calculator\n"
     ]
    },
    {
     "name": "stdin",
     "output_type": "stream",
     "text": [
      "Enter your weight in kg 76\n",
      "Enter your height in meters 1.5\n"
     ]
    },
    {
     "name": "stdout",
     "output_type": "stream",
     "text": [
      "BMI value 33.78\n",
      "You are Obese\n"
     ]
    }
   ],
   "source": [
    "print(\"BMI Calculator\")\n",
    "w = float(input(\"Enter your weight in kg\"))\n",
    "h = float(input(\"Enter your height in meters\"))\n",
    "BMI = w/h **2\n",
    "print(\"BMI value\",round(BMI,2))\n",
    "if BMI<18.5:\n",
    "    print(\"You are Under Weight\")\n",
    "elif BMI<24.9:\n",
    "    print(\"Your weight is Normal\")\n",
    "elif BMI<29.9:\n",
    "    print(\"You are Over Weight\")\n",
    "else:\n",
    "    print(\"You are Obese\")"
   ]
  },
  {
   "cell_type": "code",
   "execution_count": null,
   "id": "1ee5a2b4-116e-4e94-8a5e-0485600321f7",
   "metadata": {},
   "outputs": [],
   "source": []
  },
  {
   "cell_type": "code",
   "execution_count": null,
   "id": "7bfd5ebd-afe4-4563-9289-6064401e7d22",
   "metadata": {},
   "outputs": [],
   "source": [
    "# Exercise 4 :Write a Python program to receive 3 numbers from the user and print the greatest among them."
   ]
  },
  {
   "cell_type": "code",
   "execution_count": 77,
   "id": "0fb5346a-329f-4eb5-9bfd-cf748e812d3e",
   "metadata": {},
   "outputs": [
    {
     "name": "stdin",
     "output_type": "stream",
     "text": [
      "Enter First number 15\n",
      "Enter Second number 75\n",
      "Enter Third number 84\n"
     ]
    },
    {
     "name": "stdout",
     "output_type": "stream",
     "text": [
      "Third number is Greatest\n"
     ]
    }
   ],
   "source": [
    "a = int(input(\"Enter First number\"))\n",
    "b = int(input(\"Enter Second number\"))\n",
    "c = int(input(\"Enter Third number\"))\n",
    "if a>b and a>c:\n",
    "    print(\"First number is Greatest\")\n",
    "elif b>a and b>c:\n",
    "    print (\"Second number is Greatest\")\n",
    "else:\n",
    "    print(\"Third number is Greatest\")\n"
   ]
  },
  {
   "cell_type": "code",
   "execution_count": null,
   "id": "7651b4df-73eb-44c6-943b-bc043b9ee59e",
   "metadata": {},
   "outputs": [],
   "source": []
  },
  {
   "cell_type": "code",
   "execution_count": 80,
   "id": "04a18445-fb82-4b18-b5c3-11c7a8420428",
   "metadata": {},
   "outputs": [],
   "source": [
    "# Exercise 5 :Find the factorial of a given number using loops(note the number is received from the user)"
   ]
  },
  {
   "cell_type": "code",
   "execution_count": 120,
   "id": "f4541691-8603-424d-ac73-633276dbc400",
   "metadata": {},
   "outputs": [
    {
     "name": "stdin",
     "output_type": "stream",
     "text": [
      "Enter a number -5\n"
     ]
    },
    {
     "name": "stdout",
     "output_type": "stream",
     "text": [
      "Enter a valid number\n"
     ]
    }
   ],
   "source": [
    "n = int(input(\"Enter a number\"))\n",
    "factorial=1\n",
    "if n<0:\n",
    "    print(\"Enter a valid number\")\n",
    "    for i in range(1,n+1):\n",
    "        factorial *=i\n",
    "        print(f\"Factorial of {n} is: {factorial}\")\n",
    "    "
   ]
  },
  {
   "cell_type": "code",
   "execution_count": null,
   "id": "e969f7ea-98b0-40ba-92ad-0e3bfaf5c34b",
   "metadata": {},
   "outputs": [],
   "source": []
  },
  {
   "cell_type": "code",
   "execution_count": 123,
   "id": "d887264b-3fec-4e82-bbef-41eb0bb83801",
   "metadata": {},
   "outputs": [],
   "source": [
    "# Excersise 6 : Reverse a number using while loop"
   ]
  },
  {
   "cell_type": "code",
   "execution_count": 127,
   "id": "5a5d899c-8ba7-4f60-8213-82f06cb22feb",
   "metadata": {},
   "outputs": [
    {
     "name": "stdin",
     "output_type": "stream",
     "text": [
      "Enter a number:  1234\n"
     ]
    },
    {
     "name": "stdout",
     "output_type": "stream",
     "text": [
      "Reversed number of 1234 is: 4321\n"
     ]
    }
   ],
   "source": [
    "n = int(input(\"Enter a number: \"))\n",
    "reverse = 0\n",
    "number = n\n",
    "\n",
    "# Reverse the number\n",
    "while n > 0:\n",
    "    digit = n % 10\n",
    "    reverse = reverse * 10 + digit\n",
    "    n = n // 10\n",
    "\n",
    "print(f\"Reversed number of {number} is: {reverse}\")"
   ]
  },
  {
   "cell_type": "code",
   "execution_count": null,
   "id": "faad3e44-8430-4636-abb8-ee88191ea40e",
   "metadata": {},
   "outputs": [],
   "source": []
  },
  {
   "cell_type": "code",
   "execution_count": 130,
   "id": "9995fbe7-f0a1-4e02-8760-6b29ab046251",
   "metadata": {},
   "outputs": [],
   "source": [
    "# Excersise 7:  Finding the multiples of a number using loop"
   ]
  },
  {
   "cell_type": "code",
   "execution_count": 166,
   "id": "d33ee095-5898-441a-8abc-0c5db50938ae",
   "metadata": {},
   "outputs": [
    {
     "name": "stdin",
     "output_type": "stream",
     "text": [
      "Enter a number:  4\n",
      "Enter a range:  12\n"
     ]
    },
    {
     "name": "stdout",
     "output_type": "stream",
     "text": [
      "Multiples of 4 \n",
      "4*1 = 4\n",
      "4*2 = 8\n",
      "4*3 = 12\n",
      "4*4 = 16\n",
      "4*5 = 20\n",
      "4*6 = 24\n",
      "4*7 = 28\n",
      "4*8 = 32\n",
      "4*9 = 36\n",
      "4*10 = 40\n",
      "4*11 = 44\n",
      "4*12 = 48\n"
     ]
    }
   ],
   "source": [
    "n = int(input(\"Enter a number: \"))\n",
    "r = int(input(\"Enter a range: \"))\n",
    "print ( f\"Multiples of {n} \")\n",
    "for i in range(1,r+1):\n",
    "    print(f\"{n}*{i} =\",i*n)"
   ]
  },
  {
   "cell_type": "code",
   "execution_count": null,
   "id": "98887c36-70d4-43d1-865f-de8330000dd1",
   "metadata": {},
   "outputs": [],
   "source": []
  },
  {
   "cell_type": "code",
   "execution_count": 169,
   "id": "ae9c5467-1971-45b8-b438-3b9673355f8e",
   "metadata": {},
   "outputs": [],
   "source": [
    "# Excersise 8: Write a program to print the inputted value as it is and break the loop if the value is 'done'."
   ]
  },
  {
   "cell_type": "code",
   "execution_count": 180,
   "id": "c92f98f9-6b89-49b5-8483-d8b8c3219d7b",
   "metadata": {},
   "outputs": [
    {
     "name": "stdin",
     "output_type": "stream",
     "text": [
      "enter a string type done to exit hai\n"
     ]
    },
    {
     "name": "stdout",
     "output_type": "stream",
     "text": [
      "you entered  hai\n"
     ]
    },
    {
     "name": "stdin",
     "output_type": "stream",
     "text": [
      "enter a string type done to exit hello\n"
     ]
    },
    {
     "name": "stdout",
     "output_type": "stream",
     "text": [
      "you entered  hello\n"
     ]
    },
    {
     "name": "stdin",
     "output_type": "stream",
     "text": [
      "enter a string type done to exit how are you\n"
     ]
    },
    {
     "name": "stdout",
     "output_type": "stream",
     "text": [
      "you entered  how are you\n"
     ]
    },
    {
     "name": "stdin",
     "output_type": "stream",
     "text": [
      "enter a string type done to exit done\n"
     ]
    },
    {
     "name": "stdout",
     "output_type": "stream",
     "text": [
      "Excecution Successfull\n"
     ]
    }
   ],
   "source": [
    "while True:\n",
    "    str = input(\"enter a string type done to exit\")\n",
    "    if str == \"done\":\n",
    "        break\n",
    "    print(\"you entered \",str)\n",
    "print(\"Excecution Successfull\")\n",
    "\n"
   ]
  },
  {
   "cell_type": "code",
   "execution_count": null,
   "id": "1d522592-a6d7-4ed9-9a6b-3a79e6166843",
   "metadata": {},
   "outputs": [],
   "source": []
  },
  {
   "cell_type": "code",
   "execution_count": 183,
   "id": "b6390056-5d35-4bbb-860a-1014a3d65cf2",
   "metadata": {},
   "outputs": [],
   "source": [
    "\"\"\" Excersise 9:Write a program that prints the numbers from 1 to 10. \n",
    "But for multiples of three print \"Fizz\" instead of the number and for the multiple of five print \"Buzz\". \n",
    "For numbers which are multiples of both three and five print \"FizzBuzz\" \"\"\"\n"
   ]
  },
  {
   "cell_type": "code",
   "execution_count": 189,
   "id": "8cb7b706-b443-42db-8441-756aca8896e4",
   "metadata": {},
   "outputs": [
    {
     "name": "stdout",
     "output_type": "stream",
     "text": [
      "1\n",
      "2\n",
      "Fizz\n",
      "4\n",
      "Buzz\n",
      "Fizz\n",
      "7\n",
      "8\n",
      "Fizz\n",
      "Buzz\n",
      "11\n",
      "Fizz\n",
      "13\n",
      "14\n",
      "FizzBuzz\n",
      "16\n",
      "17\n",
      "Fizz\n",
      "19\n",
      "Buzz\n",
      "Fizz\n",
      "22\n",
      "23\n",
      "Fizz\n",
      "Buzz\n",
      "26\n",
      "Fizz\n",
      "28\n",
      "29\n",
      "FizzBuzz\n",
      "31\n",
      "32\n",
      "Fizz\n",
      "34\n",
      "Buzz\n",
      "Fizz\n",
      "37\n",
      "38\n",
      "Fizz\n",
      "Buzz\n",
      "41\n",
      "Fizz\n",
      "43\n",
      "44\n",
      "FizzBuzz\n",
      "46\n",
      "47\n",
      "Fizz\n",
      "49\n",
      "Buzz\n",
      "Fizz\n",
      "52\n",
      "53\n",
      "Fizz\n",
      "Buzz\n",
      "56\n",
      "Fizz\n",
      "58\n",
      "59\n",
      "FizzBuzz\n",
      "61\n",
      "62\n",
      "Fizz\n",
      "64\n",
      "Buzz\n",
      "Fizz\n",
      "67\n",
      "68\n",
      "Fizz\n",
      "Buzz\n",
      "71\n",
      "Fizz\n",
      "73\n",
      "74\n",
      "FizzBuzz\n",
      "76\n",
      "77\n",
      "Fizz\n",
      "79\n",
      "Buzz\n",
      "Fizz\n",
      "82\n",
      "83\n",
      "Fizz\n",
      "Buzz\n",
      "86\n",
      "Fizz\n",
      "88\n",
      "89\n",
      "FizzBuzz\n",
      "91\n",
      "92\n",
      "Fizz\n",
      "94\n",
      "Buzz\n",
      "Fizz\n",
      "97\n",
      "98\n",
      "Fizz\n"
     ]
    }
   ],
   "source": [
    "for i in range(1,100):\n",
    "    if i%15 == 0 :\n",
    "        print(\"FizzBuzz\")\n",
    "    elif i%3 ==0:\n",
    "        print(\"Fizz\")\n",
    "    elif i%5 ==0:\n",
    "        print(\"Buzz\")\n",
    "    else:\n",
    "        print(i)\n",
    "    "
   ]
  },
  {
   "cell_type": "code",
   "execution_count": null,
   "id": "7cc7cf82-173f-41e2-934c-69be3015975d",
   "metadata": {},
   "outputs": [],
   "source": []
  },
  {
   "cell_type": "code",
   "execution_count": 243,
   "id": "fcbced2c-ef1f-4eac-abe9-2609534b5800",
   "metadata": {},
   "outputs": [],
   "source": [
    "# Excersise 10: Write a program to print the following pattern:\n",
    "\n",
    "\"\"\"5 4 3 2 1\n",
    "4 3 2 1\n",
    "3 2 1\n",
    "2 1\n",
    "1\"\"\"\n"
   ]
  },
  {
   "cell_type": "code",
   "execution_count": 235,
   "id": "df459918-6142-4870-8842-896408b00fab",
   "metadata": {},
   "outputs": [
    {
     "name": "stdout",
     "output_type": "stream",
     "text": [
      "5 4 3 2 1 \n",
      "4 3 2 1 \n",
      "3 2 1 \n",
      "2 1 \n",
      "1 \n"
     ]
    }
   ],
   "source": [
    "n = 5\n",
    "for i in range(n):\n",
    "    for j in range(n-i, 0, -1):\n",
    "        print(j, end=\" \")\n",
    "    print()\n"
   ]
  },
  {
   "cell_type": "code",
   "execution_count": null,
   "id": "1cb17b24-0380-403d-be8f-03cf40265242",
   "metadata": {},
   "outputs": [],
   "source": []
  },
  {
   "cell_type": "code",
   "execution_count": null,
   "id": "46fc0456-5dcc-47e1-bee1-4d13dcc094de",
   "metadata": {},
   "outputs": [],
   "source": []
  }
 ],
 "metadata": {
  "kernelspec": {
   "display_name": "Python 3 (ipykernel)",
   "language": "python",
   "name": "python3"
  },
  "language_info": {
   "codemirror_mode": {
    "name": "ipython",
    "version": 3
   },
   "file_extension": ".py",
   "mimetype": "text/x-python",
   "name": "python",
   "nbconvert_exporter": "python",
   "pygments_lexer": "ipython3",
   "version": "3.12.4"
  }
 },
 "nbformat": 4,
 "nbformat_minor": 5
}
