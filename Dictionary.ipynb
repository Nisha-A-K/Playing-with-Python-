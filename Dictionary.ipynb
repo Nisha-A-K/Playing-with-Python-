{
 "cells": [
  {
   "cell_type": "code",
   "execution_count": 1,
   "id": "5c829239-9150-4863-869e-dceb58fc3504",
   "metadata": {},
   "outputs": [],
   "source": [
    "# Dictionary"
   ]
  },
  {
   "cell_type": "code",
   "execution_count": 3,
   "id": "18224f29-9d49-4c53-806a-0118a312e8f6",
   "metadata": {},
   "outputs": [],
   "source": [
    "#method 1 - Empty Dictionary\n",
    "d1={}"
   ]
  },
  {
   "cell_type": "code",
   "execution_count": 5,
   "id": "08ecb8b7-4e70-46ab-be08-30725c1a89f9",
   "metadata": {},
   "outputs": [],
   "source": [
    "# Method 2\n",
    "person = {'Name' : 'Achu','Age' : 10,'City' : 'Delhi'}"
   ]
  },
  {
   "cell_type": "code",
   "execution_count": 7,
   "id": "d9ac3e48-fc08-4b09-9ea9-87cf38ab34d2",
   "metadata": {},
   "outputs": [
    {
     "data": {
      "text/plain": [
       "{'Name': 'Achu', 'Age': 10, 'City': 'Delhi'}"
      ]
     },
     "execution_count": 7,
     "metadata": {},
     "output_type": "execute_result"
    }
   ],
   "source": [
    "person"
   ]
  },
  {
   "cell_type": "code",
   "execution_count": 9,
   "id": "3ab13d16-f3cc-428e-9ed2-4fc924b792f5",
   "metadata": {},
   "outputs": [
    {
     "name": "stdout",
     "output_type": "stream",
     "text": [
      "<class 'dict'>\n"
     ]
    }
   ],
   "source": [
    "print(type(person))"
   ]
  },
  {
   "cell_type": "code",
   "execution_count": 11,
   "id": "1a6a045a-00d9-4cc0-919c-38146579ee20",
   "metadata": {},
   "outputs": [
    {
     "data": {
      "text/plain": [
       "{'Name': 'Bob', 'Age': 25, 'City': 'Mumbai'}"
      ]
     },
     "execution_count": 11,
     "metadata": {},
     "output_type": "execute_result"
    }
   ],
   "source": [
    "# Method 3\n",
    "d2 = dict(Name='Bob',Age=25,City='Mumbai')\n",
    "d2"
   ]
  },
  {
   "cell_type": "code",
   "execution_count": 21,
   "id": "6b4d796d-e425-488b-87bf-989e6adfdda0",
   "metadata": {},
   "outputs": [
    {
     "name": "stdout",
     "output_type": "stream",
     "text": [
      "Achu\n",
      "10\n",
      "Bob\n"
     ]
    }
   ],
   "source": [
    "# Accessing Dictionary\n",
    "print(person['Name'])\n",
    "print(person['Age'])\n",
    "print(d2['Name'])"
   ]
  },
  {
   "cell_type": "code",
   "execution_count": 27,
   "id": "92b3ba18-00c5-4e8c-8e30-78b6d86e2ecf",
   "metadata": {},
   "outputs": [
    {
     "data": {
      "text/plain": [
       "{'Name': 'Achu',\n",
       " 'Age': 10,\n",
       " 'City': 'Delhi',\n",
       " 'Job': 'Data Analyst',\n",
       " 'Contact': 1236547890}"
      ]
     },
     "execution_count": 27,
     "metadata": {},
     "output_type": "execute_result"
    }
   ],
   "source": [
    "#adding new keys to dictionary\n",
    "person['Job'] ='Data Analyst'\n",
    "person\n",
    "person['Contact'] =1236547890\n",
    "person"
   ]
  },
  {
   "cell_type": "code",
   "execution_count": 29,
   "id": "50b8ef6b-14bc-4074-94eb-f019ee8e981f",
   "metadata": {},
   "outputs": [
    {
     "data": {
      "text/plain": [
       "{'Name': 'Niharika',\n",
       " 'Age': 10,\n",
       " 'City': 'Delhi',\n",
       " 'Job': 'Data Analyst',\n",
       " 'Contact': 1236547890}"
      ]
     },
     "execution_count": 29,
     "metadata": {},
     "output_type": "execute_result"
    }
   ],
   "source": [
    "person['Name'] = 'Niharika'\n",
    "person"
   ]
  },
  {
   "cell_type": "code",
   "execution_count": 31,
   "id": "991c6c8c-5b23-4b74-af8c-8e4a25f75f78",
   "metadata": {},
   "outputs": [
    {
     "data": {
      "text/plain": [
       "{'Name': 'Niharika',\n",
       " 'Age': 30,\n",
       " 'City': 'Delhi',\n",
       " 'Job': 'Data Analyst',\n",
       " 'Contact': 1236547890,\n",
       " 'salary': 50000}"
      ]
     },
     "execution_count": 31,
     "metadata": {},
     "output_type": "execute_result"
    }
   ],
   "source": [
    "# update - To update more than one value\n",
    "person.update({'salary':50000,'Age':30})\n",
    "person"
   ]
  },
  {
   "cell_type": "code",
   "execution_count": 35,
   "id": "bbfab539-4e6a-416a-940d-3f1904d93971",
   "metadata": {},
   "outputs": [
    {
     "data": {
      "text/plain": [
       "{'Name': 'Niharika',\n",
       " 'Age': 30,\n",
       " 'City': 'Delhi',\n",
       " 'Job': 'Data Analyst',\n",
       " 'salary': 50000}"
      ]
     },
     "execution_count": 35,
     "metadata": {},
     "output_type": "execute_result"
    }
   ],
   "source": [
    "#delete single key value pair\n",
    "del person['Contact']\n",
    "person"
   ]
  },
  {
   "cell_type": "code",
   "execution_count": 37,
   "id": "fd1924e9-848e-47ad-9693-808aa16cf7f4",
   "metadata": {},
   "outputs": [
    {
     "data": {
      "text/plain": [
       "dict_keys(['Name', 'Age', 'City', 'Job', 'salary'])"
      ]
     },
     "execution_count": 37,
     "metadata": {},
     "output_type": "execute_result"
    }
   ],
   "source": [
    "# to print keys\n",
    "a=person.keys()\n",
    "a"
   ]
  },
  {
   "cell_type": "code",
   "execution_count": 39,
   "id": "31d3909f-e000-44be-b372-a3f7e0a2cd3c",
   "metadata": {},
   "outputs": [
    {
     "data": {
      "text/plain": [
       "dict_values(['Niharika', 30, 'Delhi', 'Data Analyst', 50000])"
      ]
     },
     "execution_count": 39,
     "metadata": {},
     "output_type": "execute_result"
    }
   ],
   "source": [
    "# to print values\n",
    "b=person.values()\n",
    "b"
   ]
  },
  {
   "cell_type": "code",
   "execution_count": 41,
   "id": "ffec807d-8c25-4a0d-b6ff-7ebccf16f5ed",
   "metadata": {},
   "outputs": [
    {
     "data": {
      "text/plain": [
       "dict_items([('Name', 'Niharika'), ('Age', 30), ('City', 'Delhi'), ('Job', 'Data Analyst'), ('salary', 50000)])"
      ]
     },
     "execution_count": 41,
     "metadata": {},
     "output_type": "execute_result"
    }
   ],
   "source": [
    "# to print keys and values\n",
    "c=person.items()\n",
    "c"
   ]
  },
  {
   "cell_type": "code",
   "execution_count": null,
   "id": "04ebfac0-8e87-4667-9b5e-df4fa295f876",
   "metadata": {},
   "outputs": [],
   "source": []
  }
 ],
 "metadata": {
  "kernelspec": {
   "display_name": "Python 3 (ipykernel)",
   "language": "python",
   "name": "python3"
  },
  "language_info": {
   "codemirror_mode": {
    "name": "ipython",
    "version": 3
   },
   "file_extension": ".py",
   "mimetype": "text/x-python",
   "name": "python",
   "nbconvert_exporter": "python",
   "pygments_lexer": "ipython3",
   "version": "3.12.4"
  }
 },
 "nbformat": 4,
 "nbformat_minor": 5
}
