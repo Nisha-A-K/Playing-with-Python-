{
 "cells": [
  {
   "cell_type": "code",
   "execution_count": 1,
   "id": "c1e2be13-1b8c-4dc6-ac2c-24253d750a26",
   "metadata": {},
   "outputs": [],
   "source": [
    "# Exercise 1: (score : 1) Write a Python program to read a file and display its contents"
   ]
  },
  {
   "cell_type": "code",
   "execution_count": 3,
   "id": "36150160-8135-40cc-a585-37264a5363ae",
   "metadata": {},
   "outputs": [
    {
     "name": "stdout",
     "output_type": "stream",
     "text": [
      "11\n"
     ]
    },
    {
     "data": {
      "text/plain": [
       "'Hello World'"
      ]
     },
     "execution_count": 3,
     "metadata": {},
     "output_type": "execute_result"
    }
   ],
   "source": [
    "f1 = open('test.txt','w')\n",
    "content = f1.write(\"Hello World\")\n",
    "print(content)\n",
    "f1.close()\n",
    "f2 = open('test.txt','r')\n",
    "f2.read()"
   ]
  },
  {
   "cell_type": "code",
   "execution_count": 5,
   "id": "a0dadd38-ef9f-4653-a195-d4a65d89486a",
   "metadata": {},
   "outputs": [],
   "source": [
    "# Exercise 2: (score : 1) Write a Python program to copy the contents of one file to another file"
   ]
  },
  {
   "cell_type": "code",
   "execution_count": 11,
   "id": "b4e1b7f0-bc84-4ef8-abfc-baaba5a46d4a",
   "metadata": {},
   "outputs": [],
   "source": [
    "f3 = open('test.txt','r')\n",
    "contents = f3.read()\n",
    "f3.close()"
   ]
  },
  {
   "cell_type": "code",
   "execution_count": 19,
   "id": "f40da49b-4379-4b01-9808-ec363d202149",
   "metadata": {},
   "outputs": [],
   "source": [
    "f5 = open('Copy.txt','w')\n",
    "f5.write(contents)\n",
    "f5.close()"
   ]
  },
  {
   "cell_type": "code",
   "execution_count": null,
   "id": "add502b0-ac86-4403-aa19-db8a91a27d57",
   "metadata": {},
   "outputs": [],
   "source": []
  },
  {
   "cell_type": "code",
   "execution_count": null,
   "id": "8ffba774-c043-4177-90d8-696bd4d71a1d",
   "metadata": {},
   "outputs": [],
   "source": [
    "\"\"\"Exercise 3: (score : 2) Write a Python program to read the content of a file \n",
    "and count the total number of words in that file.\"\"\""
   ]
  },
  {
   "cell_type": "code",
   "execution_count": 35,
   "id": "25f380ed-81d9-44bc-978a-824e2ee7310f",
   "metadata": {},
   "outputs": [
    {
     "name": "stdout",
     "output_type": "stream",
     "text": [
      "Hai good evening,\n",
      "How are you\n",
      "Total number of words: 6\n"
     ]
    }
   ],
   "source": [
    "f6 = open('count.txt','r')\n",
    "content1 = f6.read()\n",
    "print(content1)\n",
    "f6.close()\n",
    "words = content1.split()\n",
    "word_count = len(words)\n",
    "print(\"Total number of words:\", word_count)"
   ]
  },
  {
   "cell_type": "code",
   "execution_count": null,
   "id": "5da2e568-283a-4054-b153-3551ac2cb2ef",
   "metadata": {},
   "outputs": [],
   "source": []
  },
  {
   "cell_type": "code",
   "execution_count": 39,
   "id": "b029bb53-f0fc-43f1-b20a-a99385471cff",
   "metadata": {},
   "outputs": [],
   "source": [
    "\"\"\"Exercise 4: (score : 1) Write a Python program that prompts the user to input a string \n",
    "and converts it to an integer. \n",
    " Use try-except blocks to handle any exceptions that might occur\"\"\""
   ]
  },
  {
   "cell_type": "code",
   "execution_count": 49,
   "id": "6438dc22-ac04-4eca-9266-dbf36fe0f9c8",
   "metadata": {},
   "outputs": [
    {
     "name": "stdin",
     "output_type": "stream",
     "text": [
      "Enter a string to get converted in to integer 10\n"
     ]
    },
    {
     "name": "stdout",
     "output_type": "stream",
     "text": [
      "The integer value is: 10\n"
     ]
    }
   ],
   "source": [
    "try:\n",
    "    input_string = input(\"Enter a string to get converted in to integer\")\n",
    "    number = int(input_string)\n",
    "    print(f\"The integer value is: {number}\")\n",
    "except ValueError:\n",
    "    print(\"Error: The input is not a valid integer.\")\n",
    "except Exception as e:\n",
    "    print(f\"An unexpected error occurred: {e}\")"
   ]
  },
  {
   "cell_type": "code",
   "execution_count": null,
   "id": "abc4f40a-4909-4c8b-bc4b-fa0145d603ac",
   "metadata": {},
   "outputs": [],
   "source": []
  },
  {
   "cell_type": "code",
   "execution_count": null,
   "id": "047c6271-b4aa-4a24-a908-92f808300a64",
   "metadata": {},
   "outputs": [],
   "source": [
    "\"\"\"Exercise 5: (score : 1) Write a Python program that prompts the user to input a list of integers \n",
    "and raises an exception if any of the integers in the list are negative.\"\"\""
   ]
  },
  {
   "cell_type": "code",
   "execution_count": 57,
   "id": "9a4e5c5c-745b-4b0e-a89e-a51d8b07b5dd",
   "metadata": {},
   "outputs": [
    {
     "name": "stdin",
     "output_type": "stream",
     "text": [
      "Enter a list of integers, separated by spaces:  5\n"
     ]
    },
    {
     "name": "stdout",
     "output_type": "stream",
     "text": [
      "All integers are non-negative.\n"
     ]
    }
   ],
   "source": [
    "try:\n",
    "    user_input = input(\"Enter a list of integers, separated by spaces: \")\n",
    "    numbers = list(map(int, user_input.split()))\n",
    "    for num in numbers:\n",
    "        if num < 0:\n",
    "            raise ValueError(\"The list contains negative integer.\")\n",
    "    print(\"All integers are non-negative.\")\n",
    "except ValueError as e:\n",
    "    print(f\"Error: {e}\")\n",
    "except Exception as e:\n",
    "    print(f\"An unexpected error occurred: {e}\")"
   ]
  },
  {
   "cell_type": "code",
   "execution_count": null,
   "id": "05adbdb4-425d-412a-879e-e8bd3da14b72",
   "metadata": {},
   "outputs": [],
   "source": []
  },
  {
   "cell_type": "code",
   "execution_count": 59,
   "id": "2279e582-6178-4c0b-8e97-362a93a31e2a",
   "metadata": {},
   "outputs": [],
   "source": [
    "\"\"\"Exercise 6: (score : 2) Write a Python program that prompts the user to input a list of integers \n",
    "and computes the average of those integers. Use try-except blocks to handle any exceptions that might occur.\n",
    "use the finally clause to print a message indicating that the program has finished running.\"\"\""
   ]
  },
  {
   "cell_type": "code",
   "execution_count": 65,
   "id": "058fd472-b853-43d5-8ee6-13eb4c584034",
   "metadata": {},
   "outputs": [
    {
     "name": "stdin",
     "output_type": "stream",
     "text": [
      "Enter a list of integers, separated by spaces:  a 5 8 7 9\n"
     ]
    },
    {
     "name": "stdout",
     "output_type": "stream",
     "text": [
      "Error: invalid literal for int() with base 10: 'a'\n",
      "The program has finished running.\n"
     ]
    }
   ],
   "source": [
    "try:\n",
    "    i = 0\n",
    "    user_input = input(\"Enter a list of integers, separated by spaces: \")\n",
    "    numbers = list(map(int, user_input.split()))\n",
    "    if len(numbers) == 0:\n",
    "        raise ValueError(\"The list is empty. Cannot compute the average.\")\n",
    "    average = sum(numbers) / len(numbers)\n",
    "    print(f\"The average of the integers is: {average}\")\n",
    "except ValueError as e:\n",
    "    print(f\"Error: {e}\")\n",
    "except Exception as e:\n",
    "    print(f\"An unexpected error occurred: {e}\")\n",
    "finally:\n",
    "    print(\"The program has finished running.\")\n",
    "        "
   ]
  },
  {
   "cell_type": "code",
   "execution_count": null,
   "id": "ce70789b-8962-4bb1-a4b5-0fc35f03ef5d",
   "metadata": {},
   "outputs": [],
   "source": []
  },
  {
   "cell_type": "code",
   "execution_count": 69,
   "id": "f058ea79-f384-45e1-a012-cd932b69ccfe",
   "metadata": {},
   "outputs": [
    {
     "ename": "SyntaxError",
     "evalue": "invalid syntax (1640345881.py, line 1)",
     "output_type": "error",
     "traceback": [
      "\u001b[1;36m  Cell \u001b[1;32mIn[69], line 1\u001b[1;36m\u001b[0m\n\u001b[1;33m    Exercise 7 : (score : 2) Write a Python program that prompts the user to input a filename\u001b[0m\n\u001b[1;37m             ^\u001b[0m\n\u001b[1;31mSyntaxError\u001b[0m\u001b[1;31m:\u001b[0m invalid syntax\n"
     ]
    }
   ],
   "source": [
    "\"\"\"Exercise 7 : (score : 2) Write a Python program that prompts the user to input a filename \n",
    "and writes a string to that file. \n",
    "Use try-except blocks to handle any exceptions that might occur \n",
    "and print a welcome message if there is no exception occurred.\"\"\""
   ]
  },
  {
   "cell_type": "code",
   "execution_count": 71,
   "id": "1ce84b40-9511-4f1c-867a-49377404283e",
   "metadata": {},
   "outputs": [
    {
     "name": "stdin",
     "output_type": "stream",
     "text": [
      "Enter the filename to write to:  sample.txt\n",
      "Enter the string you want to write to the file:  Hai nisha how are you\n"
     ]
    },
    {
     "name": "stdout",
     "output_type": "stream",
     "text": [
      "File written successfully! Welcome!\n"
     ]
    }
   ],
   "source": [
    "try:\n",
    "    filename = input(\"Enter the filename to write to: \")\n",
    "    content = input(\"Enter the string you want to write to the file: \")\n",
    "    with open(filename, \"w\") as file:\n",
    "        file.write(content)\n",
    "    print(\"File written successfully! Welcome!\")\n",
    "except Exception as e:\n",
    "    print(f\"An error occurred: {e}\")"
   ]
  },
  {
   "cell_type": "code",
   "execution_count": null,
   "id": "942eb497-b382-4f08-ac3b-98a4809ba44a",
   "metadata": {},
   "outputs": [],
   "source": []
  }
 ],
 "metadata": {
  "kernelspec": {
   "display_name": "Python 3 (ipykernel)",
   "language": "python",
   "name": "python3"
  },
  "language_info": {
   "codemirror_mode": {
    "name": "ipython",
    "version": 3
   },
   "file_extension": ".py",
   "mimetype": "text/x-python",
   "name": "python",
   "nbconvert_exporter": "python",
   "pygments_lexer": "ipython3",
   "version": "3.12.4"
  }
 },
 "nbformat": 4,
 "nbformat_minor": 5
}
