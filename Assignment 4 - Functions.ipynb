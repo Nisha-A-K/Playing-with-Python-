{
 "cells": [
  {
   "cell_type": "code",
   "execution_count": null,
   "id": "b7dfe541-2e77-43cc-b01a-58763c68c90f",
   "metadata": {},
   "outputs": [],
   "source": [
    "# Exercise 1: (score : 2) \n",
    "\"\"\" Create a function that takes in three arguments, two of which are optional. \n",
    "The first argument should be a required positional argument, \n",
    "the second argument should be a keyword argument with a default value of 10, \n",
    "and the third argument should be a keyword argument with a default value of None. \n",
    "The function should print the sum of the first two arguments if the third argument is None, \n",
    "and print the product of all three arguments if the third argument is not None.\"\"\""
   ]
  },
  {
   "cell_type": "code",
   "execution_count": 3,
   "id": "c1132fc0-dcf3-4c10-9679-7da6998f2400",
   "metadata": {},
   "outputs": [],
   "source": [
    "def funct1(a,b=10,c = None):\n",
    "    if c==None:\n",
    "        print(\"sum of first two arguments a+b = \" , a+b)\n",
    "    else:\n",
    "        print (\"product of all three arguments a*b*c = \",a*b*c) \n",
    "        "
   ]
  },
  {
   "cell_type": "code",
   "execution_count": 5,
   "id": "1c8a08c1-c1bd-4792-98c0-e9d3d23a5238",
   "metadata": {},
   "outputs": [
    {
     "name": "stdout",
     "output_type": "stream",
     "text": [
      "sum of first two arguments a+b =  10\n"
     ]
    }
   ],
   "source": [
    "funct1(6,4)"
   ]
  },
  {
   "cell_type": "code",
   "execution_count": 7,
   "id": "d3dac286-f7a8-4b68-909b-f95dd9bb237a",
   "metadata": {},
   "outputs": [
    {
     "name": "stdout",
     "output_type": "stream",
     "text": [
      "product of all three arguments a*b*c =  750\n"
     ]
    }
   ],
   "source": [
    "funct1(5,10,15)"
   ]
  },
  {
   "cell_type": "code",
   "execution_count": null,
   "id": "0718838a-bd34-499e-8f09-dd9e37200653",
   "metadata": {},
   "outputs": [],
   "source": []
  },
  {
   "cell_type": "code",
   "execution_count": null,
   "id": "7a74ac3d-e580-49d2-9314-e7ef2919999f",
   "metadata": {},
   "outputs": [],
   "source": [
    "# Exercise 2: (score : 2) \n",
    "\"\"\" Write a function that takes in a list of strings and returns \n",
    "a new list with only the strings that have a length greater than or equal to 5.\"\"\""
   ]
  },
  {
   "cell_type": "code",
   "execution_count": 36,
   "id": "079c91b1-7e29-4daf-b12d-85200664ea5a",
   "metadata": {},
   "outputs": [],
   "source": [
    "def stringfilter(str_list):\n",
    "    return list(filter(lambda x: len(x)>=5,str_list))\n",
    "    "
   ]
  },
  {
   "cell_type": "code",
   "execution_count": 32,
   "id": "439dfd7c-8c04-494b-9262-46af757ef030",
   "metadata": {},
   "outputs": [],
   "source": [
    "l1 = [\"apple\",\"orange\",\"Banana\",\"cow\",\"milk\",\"goat\",\"birds\",\"flower\"]"
   ]
  },
  {
   "cell_type": "code",
   "execution_count": 38,
   "id": "3e5824dc-26e3-4e70-90b9-69dbe453ab3e",
   "metadata": {},
   "outputs": [
    {
     "data": {
      "text/plain": [
       "['apple', 'orange', 'Banana', 'birds', 'flower']"
      ]
     },
     "execution_count": 38,
     "metadata": {},
     "output_type": "execute_result"
    }
   ],
   "source": [
    "stringfilter(l1)"
   ]
  },
  {
   "cell_type": "code",
   "execution_count": null,
   "id": "ec1ffa4c-2649-41a1-81be-1c31d867ff51",
   "metadata": {},
   "outputs": [],
   "source": []
  },
  {
   "cell_type": "code",
   "execution_count": null,
   "id": "635cdfd4-a47b-4b70-a5de-a71cc394722e",
   "metadata": {},
   "outputs": [],
   "source": [
    "#Exercise 3: (score : 2) \n",
    "# Write a Python program to evaluate a given mathematical expression using the eval() function. expression = \"3 * 5 + 2\" "
   ]
  },
  {
   "cell_type": "code",
   "execution_count": 43,
   "id": "a9014984-8012-468f-a3a4-8c1d7a57a583",
   "metadata": {},
   "outputs": [
    {
     "name": "stdout",
     "output_type": "stream",
     "text": [
      "answer =  17\n"
     ]
    }
   ],
   "source": [
    "exp = \"3 * 5 + 2\"\n",
    "ans = eval(exp)\n",
    "print(\"answer = \",ans)"
   ]
  },
  {
   "cell_type": "code",
   "execution_count": null,
   "id": "bc32b57f-6242-41ec-bda4-00f80ee2101a",
   "metadata": {},
   "outputs": [],
   "source": []
  },
  {
   "cell_type": "code",
   "execution_count": 46,
   "id": "f5e857d3-edec-4044-84ab-28843641c3c1",
   "metadata": {},
   "outputs": [],
   "source": [
    "#Exercise 4: (score : 2) \n",
    "# Write a Python program to filter out the prime numbers from a given list of integers using the filter() function."
   ]
  },
  {
   "cell_type": "code",
   "execution_count": 18,
   "id": "752b3414-dad0-4948-8809-7db000e16ddd",
   "metadata": {},
   "outputs": [],
   "source": [
    "def prime(n):\n",
    "   if n < 2:  \n",
    "        return False\n",
    "   for i in range(2, int(n ** 0.5) + 1):  \n",
    "        if n % i == 0:\n",
    "            return False\n",
    "   return True"
   ]
  },
  {
   "cell_type": "code",
   "execution_count": 20,
   "id": "409d9739-f29d-4b0e-b988-52a09c3ca28b",
   "metadata": {},
   "outputs": [
    {
     "name": "stdout",
     "output_type": "stream",
     "text": [
      "Prime numbers: [2, 3, 5, 7, 11, 13, 17, 19]\n"
     ]
    }
   ],
   "source": [
    "num = [1,2, 3, 4, 5, 6, 7, 8, 9, 10, 11, 12, 13, 14, 15, 16, 17, 18, 19, 20]  \n",
    "\n",
    "prime_numbers = list(filter(prime,num))\n",
    "\n",
    "print(\"Prime numbers:\", prime_numbers)"
   ]
  },
  {
   "cell_type": "code",
   "execution_count": null,
   "id": "05c4a6c3-90b9-4c0b-b03d-5cd62c09ebf3",
   "metadata": {},
   "outputs": [],
   "source": []
  },
  {
   "cell_type": "code",
   "execution_count": 134,
   "id": "6db3b295-1b96-40f0-8f18-3e69c73c2e3f",
   "metadata": {},
   "outputs": [],
   "source": [
    "#Exercise 5: (score : 2) \n",
    "# Write a Python program to convert a list of strings to uppercase using the map() function."
   ]
  },
  {
   "cell_type": "code",
   "execution_count": 4,
   "id": "60ea4a49-c03d-4bb9-9ab3-07f212ab8624",
   "metadata": {},
   "outputs": [
    {
     "name": "stdout",
     "output_type": "stream",
     "text": [
      "Actual List ['hello', 'world', 'python', 'programming']\n",
      "List in uppercase:  ['HELLO', 'WORLD', 'PYTHON', 'PROGRAMMING']\n"
     ]
    }
   ],
   "source": [
    "L2 = [\"hello\", \"world\", \"python\", \"programming\"]\n",
    "upper = list(map(str.upper, L2))\n",
    "print(\"Actual List\", L2)\n",
    "print(\"List in uppercase: \", upper)"
   ]
  },
  {
   "cell_type": "code",
   "execution_count": null,
   "id": "1aeff289-58e5-4388-9d11-1f943f612e5b",
   "metadata": {},
   "outputs": [],
   "source": []
  }
 ],
 "metadata": {
  "kernelspec": {
   "display_name": "Python 3 (ipykernel)",
   "language": "python",
   "name": "python3"
  },
  "language_info": {
   "codemirror_mode": {
    "name": "ipython",
    "version": 3
   },
   "file_extension": ".py",
   "mimetype": "text/x-python",
   "name": "python",
   "nbconvert_exporter": "python",
   "pygments_lexer": "ipython3",
   "version": "3.12.4"
  }
 },
 "nbformat": 4,
 "nbformat_minor": 5
}
