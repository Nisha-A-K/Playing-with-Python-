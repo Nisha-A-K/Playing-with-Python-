{
 "cells": [
  {
   "cell_type": "code",
   "execution_count": 22,
   "id": "87650256-c4c4-4f4b-9af5-28303773ccc2",
   "metadata": {},
   "outputs": [
    {
     "name": "stdout",
     "output_type": "stream",
     "text": [
      "Nisha A K\n",
      "DSML37 30\n",
      "nishasachinsundar@gmail.com\n"
     ]
    }
   ],
   "source": [
    "# Exercise 1 : Write Python code that prints your name, student number and email address\n",
    "\n",
    "print (\"Nisha A K\")\n",
    "print (\"DSML37 30\")\n",
    "print (\"nishasachinsundar@gmail.com\")\n"
   ]
  },
  {
   "cell_type": "code",
   "execution_count": 94,
   "id": "bbe3c2b6-78b9-468d-a86d-441c7130651d",
   "metadata": {},
   "outputs": [
    {
     "name": "stdout",
     "output_type": "stream",
     "text": [
      "Name: Nisha\t A\t K  \n",
      "\n",
      "Student Number:\t DSML37 030 \n",
      "\n",
      "Email Address:\tnishasachinsundar@gmail.com\n"
     ]
    }
   ],
   "source": [
    "#Exercise 2 : Write Python code that prints your name, student number and email address using escape sequences.   \n",
    "print(\"Name: Nisha\\t A\\t K  \\n\")\n",
    "print(\"Student Number:\\t DSML37 030 \\n\")\n",
    "print(\"Email Address:\\tnishasachinsundar@gmail.com\")"
   ]
  },
  {
   "cell_type": "code",
   "execution_count": 32,
   "id": "d1405d66-c77f-47ad-bc41-13b320342de4",
   "metadata": {},
   "outputs": [
    {
     "name": "stdout",
     "output_type": "stream",
     "text": [
      "a+b =  21\n",
      "a-b =  7\n",
      "a*b =  98\n",
      "a/b =  2.0\n"
     ]
    }
   ],
   "source": [
    "#Exercise 3 : Write Python code that add, subtract, multiply and divide the two numbers. You can use the two numbers 14 and 7.\n",
    "a = 14\n",
    "b= 7\n",
    "print (\"a+b = \",a+b) \n",
    "print (\"a-b = \",a-b)\n",
    "print (\"a*b = \",a*b)\n",
    "print (\"a/b = \",a/b)"
   ]
  },
  {
   "cell_type": "code",
   "execution_count": 54,
   "id": "ac1169fc-5e9f-4483-ad0c-4790f958c8f6",
   "metadata": {},
   "outputs": [
    {
     "name": "stdout",
     "output_type": "stream",
     "text": [
      "1\n",
      "2\n",
      "3\n",
      "4\n",
      "5\n"
     ]
    }
   ],
   "source": [
    "#Exercise 4 : Write Python code that displays the numbers from 1 to 5 as steps. \n",
    "for i in range(1, 6):\n",
    "    print(i)"
   ]
  },
  {
   "cell_type": "code",
   "execution_count": 58,
   "id": "fc8a9e1f-5ded-4aba-9b3c-55f53870e9a9",
   "metadata": {},
   "outputs": [
    {
     "name": "stdout",
     "output_type": "stream",
     "text": [
      "\"SDK\" stands for \"Software Development Kit\", whereas\n",
      "\"IDE\" stands for \"Integrated Development Environment\"\n"
     ]
    }
   ],
   "source": [
    "'''Exercise 5\n",
    "Write Python code that outputs the following sentence (including the quotation marks and line break) to the screen: \n",
    "An example runs of the program:  \n",
    "\"SDK\" stands for \"Software Development Kit\", whereas \n",
    "\"IDE\" stands for \"Integrated Development Environment\". '''\n",
    "\n",
    "print('\"SDK\" stands for \"Software Development Kit\", whereas\\n\"IDE\" stands for \"Integrated Development Environment\"')\n"
   ]
  },
  {
   "cell_type": "code",
   "execution_count": 60,
   "id": "63b27957-ae64-4277-aeb4-5498dd7d6219",
   "metadata": {},
   "outputs": [
    {
     "name": "stdout",
     "output_type": "stream",
     "text": [
      "python is an \"awesome\" language.\n",
      "python\n",
      "\t2023\n",
      "I'm from Entri\n",
      "5\n",
      "e\n",
      "Entri\n",
      "2023\n",
      "Entr2023\n",
      "Entri*20"
     ]
    }
   ],
   "source": [
    "'''Exercise 6\n",
    "Practice and check the output\n",
    "print(\"python is an \\\"awesome\\\" language.\")\n",
    "print(\"python\\n\\t2023\")\n",
    "print('I\\'m from Entri.\\b')\n",
    "print(\"\\65\")\n",
    "print(\"\\x65\")\n",
    "print(\"Entri\", \"2023\", sep=\"\\n\")\n",
    "print(\"Entri\", \"2023\", sep=\"\\b\")\n",
    "print(\"Entri\", \"2023\", sep=\"*\", end=\"\\b\\b\\b\\b\")'''\n",
    "\n",
    "print(\"python is an \\\"awesome\\\" language.\")\n",
    "print(\"python\\n\\t2023\")\n",
    "print('I\\'m from Entri.\\b')\n",
    "print(\"\\65\")\n",
    "print(\"\\x65\")\n",
    "print(\"Entri\", \"2023\", sep=\"\\n\")\n",
    "print(\"Entri\", \"2023\", sep=\"\\b\")\n",
    "print(\"Entri\", \"2023\", sep=\"*\", end=\"\\b\\b\\b\\b\")\n",
    "\n"
   ]
  },
  {
   "cell_type": "code",
   "execution_count": 68,
   "id": "00e18755-b087-4f0a-bf8c-dc3ae8a120be",
   "metadata": {},
   "outputs": [
    {
     "name": "stdout",
     "output_type": "stream",
     "text": [
      "Sum =  178.3\n"
     ]
    }
   ],
   "source": [
    "''' Exercise 7\n",
    "Define the variables below. Print the types of each variable. What is the sum of your variables? (Hint: use a type conversion function.) What datatype is the sum?\n",
    "num=23\n",
    "textnum=\"57\"\n",
    "decimal=98.3'''\n",
    "\n",
    "num=23\n",
    "textnum=\"57\"\n",
    "decimal=98.3\n",
    "print (\"Sum = \",  num+ int(textnum)+98.3)\n",
    "\n"
   ]
  },
  {
   "cell_type": "code",
   "execution_count": 70,
   "id": "ae2a95c1-6e7c-462b-b500-58f67e95680b",
   "metadata": {},
   "outputs": [
    {
     "name": "stdout",
     "output_type": "stream",
     "text": [
      "no.of days in an year =  365\n",
      "minute in a hour =  60\n",
      "hours in a day =  24\n",
      "total number of minutes in an year =  525600\n"
     ]
    }
   ],
   "source": [
    "''' Exercise 8\n",
    "calculate the number of minutes in a year using variables for each unit of time. print a statement that describes what your code does also. Create three variables to store no of days in a year, minute in a hour, hours in a day, then calculate the total minutes in a year and print the values\n",
    "(hint) total number of minutes in an year =No.of days in an year * Hours in a day * Minutes in an hour'''\n",
    "\n",
    "days = 365\n",
    "minutes =60\n",
    "hours = 24\n",
    "\n",
    "print (\"no.of days in an year = \",days)\n",
    "print (\"minute in a hour = \", minutes)\n",
    "print (\"hours in a day = \", hours)\n",
    "\n",
    "print(\"total number of minutes in an year = \",days*minutes*hours)"
   ]
  },
  {
   "cell_type": "code",
   "execution_count": 72,
   "id": "aae548bd-11aa-4b0e-a3f4-c98d9bcd8951",
   "metadata": {},
   "outputs": [
    {
     "name": "stdin",
     "output_type": "stream",
     "text": [
      "Please enter your name:  Nisha A K\n"
     ]
    },
    {
     "name": "stdout",
     "output_type": "stream",
     "text": [
      "Hi Nisha A K, welcome to Python programming :)\n"
     ]
    }
   ],
   "source": [
    "'''Write Python code that asks the user to enter his/her name and then output/prints his/her name with a greeting.\n",
    "An example runs of the program:\n",
    "Please enter you name: Tony\n",
    "Hi Tony, welcome to Python programming :)'''\n",
    "\n",
    "name = input(\"Please enter your name: \")\n",
    "print(f\"Hi {name}, welcome to Python programming :)\")"
   ]
  },
  {
   "cell_type": "code",
   "execution_count": 88,
   "id": "4236a95b-861d-43dc-923a-a22c077b0c52",
   "metadata": {},
   "outputs": [
    {
     "name": "stdin",
     "output_type": "stream",
     "text": [
      "Please enter amount in pounds:  10\n"
     ]
    },
    {
     "name": "stdout",
     "output_type": "stream",
     "text": [
      "£  10.00 are $  13.10\n"
     ]
    }
   ],
   "source": [
    "'''Name your file: PoundsToDollars.py\n",
    "Write a program that asks the user to enter an amount in pounds (£) and the program calculates and converts an amount in dollar ($)\n",
    "An example runs of the program:\n",
    "Please enter amount in pounds: XXX\n",
    "£ XXX are $ XXX'''\n",
    "\n",
    "conversion_rate = 1.31\n",
    "pounds = float(input(\"Please enter amount in pounds: \"))\n",
    "dollars = pounds * conversion_rate\n",
    "\n",
    "print(f\"£ {pounds: .2f} are $ {dollars: .2f}\")"
   ]
  },
  {
   "cell_type": "code",
   "execution_count": null,
   "id": "dfd17232-3753-463b-b426-e9e81954711d",
   "metadata": {},
   "outputs": [],
   "source": []
  }
 ],
 "metadata": {
  "kernelspec": {
   "display_name": "Python 3 (ipykernel)",
   "language": "python",
   "name": "python3"
  },
  "language_info": {
   "codemirror_mode": {
    "name": "ipython",
    "version": 3
   },
   "file_extension": ".py",
   "mimetype": "text/x-python",
   "name": "python",
   "nbconvert_exporter": "python",
   "pygments_lexer": "ipython3",
   "version": "3.12.4"
  }
 },
 "nbformat": 4,
 "nbformat_minor": 5
}
