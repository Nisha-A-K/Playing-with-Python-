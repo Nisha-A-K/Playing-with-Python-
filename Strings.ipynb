{
 "cells": [
  {
   "cell_type": "code",
   "execution_count": 1,
   "id": "32c4e276-4395-4488-91bb-498c05f3306b",
   "metadata": {},
   "outputs": [],
   "source": [
    "s1=\"Hello\""
   ]
  },
  {
   "cell_type": "code",
   "execution_count": 3,
   "id": "1635dc3b-b7c6-4ed8-be9a-3f4182e37c36",
   "metadata": {},
   "outputs": [],
   "source": [
    "s2='world'"
   ]
  },
  {
   "cell_type": "code",
   "execution_count": 5,
   "id": "4198c5d1-6300-4dc1-874f-4fd234c3f698",
   "metadata": {},
   "outputs": [],
   "source": [
    "s3=\"\"\" Hai evryone\n",
    "Hello\"\"\""
   ]
  },
  {
   "cell_type": "code",
   "execution_count": 7,
   "id": "a9a03e23-ddbc-4bed-8310-92de09cb3db2",
   "metadata": {},
   "outputs": [
    {
     "name": "stdout",
     "output_type": "stream",
     "text": [
      "<class 'str'>\n"
     ]
    }
   ],
   "source": [
    "print (type(s1))"
   ]
  },
  {
   "cell_type": "code",
   "execution_count": 9,
   "id": "13ad0b45-a319-4200-bcf0-044e84626c57",
   "metadata": {},
   "outputs": [
    {
     "name": "stdout",
     "output_type": "stream",
     "text": [
      "<class 'str'>\n"
     ]
    }
   ],
   "source": [
    "print (type(s2))"
   ]
  },
  {
   "cell_type": "code",
   "execution_count": 11,
   "id": "a71697df-236c-4f37-85cf-2a875072d068",
   "metadata": {},
   "outputs": [
    {
     "name": "stdout",
     "output_type": "stream",
     "text": [
      "<class 'str'>\n"
     ]
    }
   ],
   "source": [
    "print (type(s3))"
   ]
  },
  {
   "cell_type": "code",
   "execution_count": 13,
   "id": "4ead6170-174d-4397-9621-a2d855f5ab74",
   "metadata": {},
   "outputs": [
    {
     "data": {
      "text/plain": [
       "'Helloworld'"
      ]
     },
     "execution_count": 13,
     "metadata": {},
     "output_type": "execute_result"
    }
   ],
   "source": [
    "s4=s1+s2\n",
    "s4"
   ]
  },
  {
   "cell_type": "code",
   "execution_count": 17,
   "id": "e3b1a03f-fa1c-437a-9064-ba32abef2b56",
   "metadata": {},
   "outputs": [
    {
     "data": {
      "text/plain": [
       "'Hello world'"
      ]
     },
     "execution_count": 17,
     "metadata": {},
     "output_type": "execute_result"
    }
   ],
   "source": [
    "s4=s1+' '+s2\n",
    "s4"
   ]
  },
  {
   "cell_type": "code",
   "execution_count": 19,
   "id": "813aeabb-74a2-4c16-9516-8276133447ba",
   "metadata": {},
   "outputs": [
    {
     "data": {
      "text/plain": [
       "'H'"
      ]
     },
     "execution_count": 19,
     "metadata": {},
     "output_type": "execute_result"
    }
   ],
   "source": [
    "# indexing\n",
    "\n",
    "s4[0]"
   ]
  },
  {
   "cell_type": "code",
   "execution_count": 21,
   "id": "dc598822-49c4-4c73-a5dc-4cd258c60976",
   "metadata": {},
   "outputs": [
    {
     "data": {
      "text/plain": [
       "'e'"
      ]
     },
     "execution_count": 21,
     "metadata": {},
     "output_type": "execute_result"
    }
   ],
   "source": [
    "s4[1]"
   ]
  },
  {
   "cell_type": "code",
   "execution_count": 23,
   "id": "9ef50a74-fef1-4181-89da-d077f0753a84",
   "metadata": {},
   "outputs": [
    {
     "data": {
      "text/plain": [
       "'r'"
      ]
     },
     "execution_count": 23,
     "metadata": {},
     "output_type": "execute_result"
    }
   ],
   "source": [
    "s4[8]"
   ]
  },
  {
   "cell_type": "code",
   "execution_count": 25,
   "id": "75fba871-c030-4815-947a-ff6e2b53ef2a",
   "metadata": {},
   "outputs": [
    {
     "data": {
      "text/plain": [
       "'wor'"
      ]
     },
     "execution_count": 25,
     "metadata": {},
     "output_type": "execute_result"
    }
   ],
   "source": [
    "s4[6:9]  "
   ]
  },
  {
   "cell_type": "code",
   "execution_count": 29,
   "id": "162d818c-ec3e-47d2-8e97-cbc16050ea3f",
   "metadata": {},
   "outputs": [
    {
     "name": "stdout",
     "output_type": "stream",
     "text": [
      "dlrow olleH\n"
     ]
    }
   ],
   "source": [
    "print(s4[::-1])"
   ]
  },
  {
   "cell_type": "code",
   "execution_count": 31,
   "id": "d7480618-5a2a-4efb-8791-53955d8236fe",
   "metadata": {},
   "outputs": [
    {
     "data": {
      "text/plain": [
       "'d'"
      ]
     },
     "execution_count": 31,
     "metadata": {},
     "output_type": "execute_result"
    }
   ],
   "source": [
    "s4[-1]"
   ]
  },
  {
   "cell_type": "code",
   "execution_count": 33,
   "id": "4ad3d796-7c80-48b5-97e4-88686dbd3c55",
   "metadata": {},
   "outputs": [
    {
     "data": {
      "text/plain": [
       "'Hello worldHello worldHello worldHello world'"
      ]
     },
     "execution_count": 33,
     "metadata": {},
     "output_type": "execute_result"
    }
   ],
   "source": [
    "s4*4"
   ]
  },
  {
   "cell_type": "code",
   "execution_count": 35,
   "id": "9cf77ec9-98c6-4c9f-a495-1c853a549567",
   "metadata": {
    "scrolled": true
   },
   "outputs": [
    {
     "name": "stdout",
     "output_type": "stream",
     "text": [
      "11\n"
     ]
    }
   ],
   "source": [
    "# string length\n",
    "print(len(s4))"
   ]
  },
  {
   "cell_type": "code",
   "execution_count": 37,
   "id": "6739073d-a1bd-4e35-ad6a-51c616854b22",
   "metadata": {},
   "outputs": [
    {
     "name": "stdout",
     "output_type": "stream",
     "text": [
      "HELLO WORLD\n"
     ]
    }
   ],
   "source": [
    "#Upper case\n",
    "print(s4.upper())"
   ]
  },
  {
   "cell_type": "code",
   "execution_count": 39,
   "id": "c67df615-36c9-43cb-ad00-369a4e24dae4",
   "metadata": {},
   "outputs": [
    {
     "name": "stdout",
     "output_type": "stream",
     "text": [
      "hello world\n"
     ]
    }
   ],
   "source": [
    "#Lower case\n",
    "print(s4.lower())"
   ]
  },
  {
   "cell_type": "code",
   "execution_count": 41,
   "id": "bbbe6a3a-5233-4524-a143-db31230c72c2",
   "metadata": {},
   "outputs": [
    {
     "name": "stdout",
     "output_type": "stream",
     "text": [
      "Hello world\n"
     ]
    }
   ],
   "source": [
    "#Capitalize\n",
    "print(s4.capitalize())\n"
   ]
  },
  {
   "cell_type": "code",
   "execution_count": 43,
   "id": "9e03ddeb-57ad-458c-9da9-fcf0289efcf0",
   "metadata": {},
   "outputs": [
    {
     "name": "stdout",
     "output_type": "stream",
     "text": [
      "Hello Torld\n"
     ]
    }
   ],
   "source": [
    "#Replace a letter\n",
    "print(s4.replace('w','T'))"
   ]
  },
  {
   "cell_type": "code",
   "execution_count": 45,
   "id": "2e86a8c7-c13c-4a96-bb8f-282752ff08f7",
   "metadata": {},
   "outputs": [
    {
     "name": "stdout",
     "output_type": "stream",
     "text": [
      "-1\n"
     ]
    }
   ],
   "source": [
    "#Find\n",
    "print(s4.find('TH'))\n"
   ]
  },
  {
   "cell_type": "code",
   "execution_count": 49,
   "id": "4b73ab1b-2d1d-4ee5-89e7-bd104c40b674",
   "metadata": {},
   "outputs": [
    {
     "name": "stdout",
     "output_type": "stream",
     "text": [
      "1\n"
     ]
    }
   ],
   "source": [
    "print(s4.find('e'))"
   ]
  },
  {
   "cell_type": "code",
   "execution_count": 51,
   "id": "0c0245e8-d311-4413-842e-683f8e44a504",
   "metadata": {},
   "outputs": [
    {
     "name": "stdout",
     "output_type": "stream",
     "text": [
      "True\n"
     ]
    }
   ],
   "source": [
    "#in operator\n",
    "print(\"Hello\" in s4)"
   ]
  },
  {
   "cell_type": "code",
   "execution_count": 53,
   "id": "2db38069-337d-4d4c-855e-4cc04f55f311",
   "metadata": {},
   "outputs": [
    {
     "name": "stdout",
     "output_type": "stream",
     "text": [
      "False\n"
     ]
    }
   ],
   "source": [
    "print(\"Hai\" in s4)"
   ]
  },
  {
   "cell_type": "code",
   "execution_count": 55,
   "id": "c4bad742-4b13-4fc8-b93b-70c66a6d9c1d",
   "metadata": {},
   "outputs": [
    {
     "ename": "TypeError",
     "evalue": "'str' object doesn't support item deletion",
     "output_type": "error",
     "traceback": [
      "\u001b[1;31m---------------------------------------------------------------------------\u001b[0m",
      "\u001b[1;31mTypeError\u001b[0m                                 Traceback (most recent call last)",
      "Cell \u001b[1;32mIn[55], line 2\u001b[0m\n\u001b[0;32m      1\u001b[0m \u001b[38;5;66;03m#delete \u001b[39;00m\n\u001b[1;32m----> 2\u001b[0m \u001b[38;5;28;01mdel\u001b[39;00m s4[\u001b[38;5;241m2\u001b[39m]\n",
      "\u001b[1;31mTypeError\u001b[0m: 'str' object doesn't support item deletion"
     ]
    }
   ],
   "source": [
    "#delete \n",
    "del s4[2]"
   ]
  },
  {
   "cell_type": "code",
   "execution_count": 57,
   "id": "8c5ecad2-62c2-4576-962b-032fbdaf5b2c",
   "metadata": {},
   "outputs": [],
   "source": [
    "# string is not completely mutable"
   ]
  },
  {
   "cell_type": "code",
   "execution_count": 59,
   "id": "b9d57950-9134-4c83-beee-ab1bbdee4cbb",
   "metadata": {},
   "outputs": [],
   "source": [
    "del s4"
   ]
  },
  {
   "cell_type": "code",
   "execution_count": 63,
   "id": "9b4a0e2c-927b-409b-bedd-e3bf9a1451d3",
   "metadata": {},
   "outputs": [
    {
     "ename": "NameError",
     "evalue": "name 's4' is not defined",
     "output_type": "error",
     "traceback": [
      "\u001b[1;31m---------------------------------------------------------------------------\u001b[0m",
      "\u001b[1;31mNameError\u001b[0m                                 Traceback (most recent call last)",
      "Cell \u001b[1;32mIn[63], line 1\u001b[0m\n\u001b[1;32m----> 1\u001b[0m \u001b[38;5;28mprint\u001b[39m (s4)\n",
      "\u001b[1;31mNameError\u001b[0m: name 's4' is not defined"
     ]
    }
   ],
   "source": [
    "print (s4)"
   ]
  },
  {
   "cell_type": "code",
   "execution_count": 5,
   "id": "12de23f9-5210-43d6-b0ac-036c3918c2b9",
   "metadata": {},
   "outputs": [
    {
     "name": "stdout",
     "output_type": "stream",
     "text": [
      "original string:  Hello World !\n",
      "['H', 'e', 'l', 'l', 'o', ' ', 'W', 'o', 'r', 'l', 'd', ' ', '!']\n"
     ]
    }
   ],
   "source": [
    "# convert string to list\n",
    "s5 =\"Hello World !\"\n",
    "print(\"original string: \", s5)\n",
    "temp = list(s5)\n",
    "print(temp)"
   ]
  },
  {
   "cell_type": "code",
   "execution_count": 7,
   "id": "f49b28aa-43de-4f1f-a83d-e3c866f30847",
   "metadata": {},
   "outputs": [
    {
     "name": "stdout",
     "output_type": "stream",
     "text": [
      "['H', 'e', 'l', 'l', 'o', ' ', 'W', 'o', 'r', 'l', 'd', ' ', '@']\n"
     ]
    }
   ],
   "source": [
    "temp[12] ='@'\n",
    "print(temp)"
   ]
  },
  {
   "cell_type": "code",
   "execution_count": 9,
   "id": "70c13ad3-4a77-4520-8ed4-ed2907a17bc2",
   "metadata": {},
   "outputs": [
    {
     "name": "stdout",
     "output_type": "stream",
     "text": [
      "updated:  Hello World @\n"
     ]
    }
   ],
   "source": [
    "new1 = ''.join(temp)\n",
    "print(\"updated: \",new1)"
   ]
  },
  {
   "cell_type": "code",
   "execution_count": null,
   "id": "54f9963f-ba10-47c9-81b9-3ce3412cb3aa",
   "metadata": {},
   "outputs": [],
   "source": []
  }
 ],
 "metadata": {
  "kernelspec": {
   "display_name": "Python 3 (ipykernel)",
   "language": "python",
   "name": "python3"
  },
  "language_info": {
   "codemirror_mode": {
    "name": "ipython",
    "version": 3
   },
   "file_extension": ".py",
   "mimetype": "text/x-python",
   "name": "python",
   "nbconvert_exporter": "python",
   "pygments_lexer": "ipython3",
   "version": "3.12.4"
  }
 },
 "nbformat": 4,
 "nbformat_minor": 5
}
