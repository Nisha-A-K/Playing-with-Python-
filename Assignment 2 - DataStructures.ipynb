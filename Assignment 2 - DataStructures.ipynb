{
 "cells": [
  {
   "cell_type": "code",
   "execution_count": 1,
   "id": "ae750e03-55e3-40c7-9d90-0642b8238364",
   "metadata": {},
   "outputs": [],
   "source": [
    "# Topic : List"
   ]
  },
  {
   "cell_type": "code",
   "execution_count": 17,
   "id": "92698a0c-456c-4c73-b55c-5790a73f431c",
   "metadata": {},
   "outputs": [
    {
     "name": "stdout",
     "output_type": "stream",
     "text": [
      "<class 'list'>\n"
     ]
    }
   ],
   "source": [
    "# Q1. Create a list of 5 random numbers and print the list. \n",
    "\n",
    "List1 = [2,5,8,6,4]\n",
    "print(type(List1))"
   ]
  },
  {
   "cell_type": "code",
   "execution_count": 19,
   "id": "20bdd835-d496-4a10-a5f7-87eac527fe47",
   "metadata": {},
   "outputs": [
    {
     "name": "stdout",
     "output_type": "stream",
     "text": [
      "[2, 5, 8, 6, 4, 'Hai', 1]\n"
     ]
    }
   ],
   "source": [
    "# Q2. Insert 3 new values to the list and print the updated list. \n",
    "\n",
    "List1.append(\"Hai\")\n",
    "List1.append(1)\n",
    "List.append(9)\n",
    "print(List1)"
   ]
  },
  {
   "cell_type": "code",
   "execution_count": 25,
   "id": "03026377-e823-4fd0-9083-5790a4e55fda",
   "metadata": {},
   "outputs": [
    {
     "name": "stdout",
     "output_type": "stream",
     "text": [
      "2\n",
      "5\n",
      "8\n",
      "6\n",
      "4\n",
      "Hai\n",
      "1\n"
     ]
    }
   ],
   "source": [
    "# Q3. Try to use a for loop to print each element in the list. \n",
    "\n",
    "for i in List1:\n",
    "    print(i)"
   ]
  },
  {
   "cell_type": "code",
   "execution_count": null,
   "id": "0cd9818e-0393-4d3b-b65f-af4941a0f529",
   "metadata": {},
   "outputs": [],
   "source": []
  },
  {
   "cell_type": "code",
   "execution_count": 28,
   "id": "1157a9eb-2faa-475d-a34b-6f9290520dfa",
   "metadata": {},
   "outputs": [],
   "source": [
    "#Topic: Dictionary"
   ]
  },
  {
   "cell_type": "code",
   "execution_count": 30,
   "id": "24129d0a-a55a-4807-a6ab-e17cec620930",
   "metadata": {},
   "outputs": [
    {
     "name": "stdout",
     "output_type": "stream",
     "text": [
      "<class 'dict'>\n"
     ]
    },
    {
     "data": {
      "text/plain": [
       "{'Name': 'Jogn', 'Age': 25, 'Address': 'Newyork'}"
      ]
     },
     "execution_count": 30,
     "metadata": {},
     "output_type": "execute_result"
    }
   ],
   "source": [
    "# Q1. Create a dictionary with keys 'name', 'age', and 'address' and values 'John', 25, and 'New York' respectively.\n",
    "\n",
    "Dictionary1 = {'Name':'Jogn','Age':25,'Address':'Newyork'}\n",
    "print(type(Dictionary1))\n",
    "Dictionary1"
   ]
  },
  {
   "cell_type": "code",
   "execution_count": 32,
   "id": "ec555cd1-d9ab-479f-ac31-3b277c61a2ed",
   "metadata": {},
   "outputs": [
    {
     "name": "stdout",
     "output_type": "stream",
     "text": [
      "{'Name': 'Jogn', 'Age': 25, 'Address': 'Newyork', 'Phone': 1234567890}\n"
     ]
    }
   ],
   "source": [
    "# Q2. Add a new key-value pair to the dictionary created in Q1 with key 'phone' and value '1234567890'. \n",
    "\n",
    "Dictionary1['Phone'] = 1234567890\n",
    "print(Dictionary1)"
   ]
  },
  {
   "cell_type": "code",
   "execution_count": null,
   "id": "7ae31ec3-5c8e-4d10-b5c1-2314d7e5e55a",
   "metadata": {},
   "outputs": [],
   "source": []
  },
  {
   "cell_type": "code",
   "execution_count": 35,
   "id": "c1c972be-e39c-4b6e-876c-edebf04a777f",
   "metadata": {},
   "outputs": [],
   "source": [
    "# Topic: Set "
   ]
  },
  {
   "cell_type": "code",
   "execution_count": 41,
   "id": "376c2ac5-c8b5-4dd4-a2a0-c5edb0763434",
   "metadata": {},
   "outputs": [
    {
     "name": "stdout",
     "output_type": "stream",
     "text": [
      "<class 'set'>\n"
     ]
    },
    {
     "data": {
      "text/plain": [
       "{1, 2, 3, 4, 5}"
      ]
     },
     "execution_count": 41,
     "metadata": {},
     "output_type": "execute_result"
    }
   ],
   "source": [
    "# Q1.Create a set with values 1, 2, 3, 4, and 5.\n",
    "\n",
    "Set1 = {1,2,3,4,5}\n",
    "print(type(Set1))\n",
    "Set1"
   ]
  },
  {
   "cell_type": "code",
   "execution_count": 45,
   "id": "f2a26942-4303-47e4-805d-40d4d31e5b90",
   "metadata": {},
   "outputs": [
    {
     "name": "stdout",
     "output_type": "stream",
     "text": [
      "{1, 2, 3, 4, 5, 6}\n"
     ]
    }
   ],
   "source": [
    "# Q2. Add the value 6 to the set created in Q1. \n",
    "\n",
    "Set1.add(6)\n",
    "print(Set1)"
   ]
  },
  {
   "cell_type": "code",
   "execution_count": 47,
   "id": "c8d16012-2544-4125-b5e8-c4fbd557bda9",
   "metadata": {},
   "outputs": [
    {
     "name": "stdout",
     "output_type": "stream",
     "text": [
      "{1, 2, 4, 5, 6}\n"
     ]
    }
   ],
   "source": [
    "# Q3. Remove the value 3 from the set created in Q1. \n",
    "\n",
    "Set1.remove(3)\n",
    "print(Set1)"
   ]
  },
  {
   "cell_type": "code",
   "execution_count": null,
   "id": "7166ad8b-c2df-43fe-9099-c3b70666a024",
   "metadata": {},
   "outputs": [],
   "source": []
  },
  {
   "cell_type": "code",
   "execution_count": 50,
   "id": "eca5f329-aba6-42c2-a7cc-ef5a0743a0d9",
   "metadata": {},
   "outputs": [],
   "source": [
    "# Tuple"
   ]
  },
  {
   "cell_type": "code",
   "execution_count": 52,
   "id": "11cdab60-ea66-49ac-aa63-c320cdb1da49",
   "metadata": {},
   "outputs": [
    {
     "name": "stdout",
     "output_type": "stream",
     "text": [
      "<class 'tuple'>\n"
     ]
    },
    {
     "data": {
      "text/plain": [
       "(1, 2, 3, 4)"
      ]
     },
     "execution_count": 52,
     "metadata": {},
     "output_type": "execute_result"
    }
   ],
   "source": [
    "# Q1. Create a tuple with values 1, 2, 3, and 4 \n",
    "\n",
    "Tuple1 = (1,2,3,4)\n",
    "print(type(Tuple1))\n",
    "Tuple1"
   ]
  },
  {
   "cell_type": "code",
   "execution_count": 64,
   "id": "7863de89-94b1-4244-99fe-a34dda8291f3",
   "metadata": {},
   "outputs": [
    {
     "name": "stdout",
     "output_type": "stream",
     "text": [
      "4\n"
     ]
    },
    {
     "data": {
      "text/plain": [
       "(1, 2, 3, 4)"
      ]
     },
     "execution_count": 64,
     "metadata": {},
     "output_type": "execute_result"
    }
   ],
   "source": [
    "# Q2. Print the length of the tuple created in Q1.\n",
    "\n",
    "print(len(Tuple1))\n",
    "Tuple1"
   ]
  },
  {
   "cell_type": "code",
   "execution_count": null,
   "id": "c37f84cd-4475-4d8c-950e-92d3d421033d",
   "metadata": {},
   "outputs": [],
   "source": []
  }
 ],
 "metadata": {
  "kernelspec": {
   "display_name": "Python 3 (ipykernel)",
   "language": "python",
   "name": "python3"
  },
  "language_info": {
   "codemirror_mode": {
    "name": "ipython",
    "version": 3
   },
   "file_extension": ".py",
   "mimetype": "text/x-python",
   "name": "python",
   "nbconvert_exporter": "python",
   "pygments_lexer": "ipython3",
   "version": "3.12.4"
  }
 },
 "nbformat": 4,
 "nbformat_minor": 5
}
