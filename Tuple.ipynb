{
 "cells": [
  {
   "cell_type": "markdown",
   "id": "f10020d5-faa2-47d9-8af1-dc2f75ccaa49",
   "metadata": {},
   "source": [
    "Tuple "
   ]
  },
  {
   "cell_type": "code",
   "execution_count": 9,
   "id": "6160167a-90a2-42f6-988c-c6dd555adcb8",
   "metadata": {},
   "outputs": [
    {
     "name": "stdout",
     "output_type": "stream",
     "text": [
      "(2, 'Nisha', 8.2)\n",
      "<class 'tuple'>\n"
     ]
    }
   ],
   "source": [
    "t1=(2,\"Nisha\",8.2) #Tuple creation\n",
    "t1\n",
    "print(t1)\n",
    "print(type(t1))  #identify type"
   ]
  },
  {
   "cell_type": "code",
   "execution_count": 3,
   "id": "06ef95bf-b9c4-45e0-bc5d-be1db64fa2d8",
   "metadata": {},
   "outputs": [
    {
     "name": "stdout",
     "output_type": "stream",
     "text": [
      "(2, 'Nisha', 8.2)\n"
     ]
    }
   ],
   "source": [
    "print(t1)"
   ]
  },
  {
   "cell_type": "code",
   "execution_count": 15,
   "id": "b33d1a07-a2b5-4eb4-aa22-755e6bb19dcf",
   "metadata": {},
   "outputs": [
    {
     "name": "stdout",
     "output_type": "stream",
     "text": [
      "(10, 'Hello')\n",
      "<class 'tuple'>\n"
     ]
    },
    {
     "data": {
      "text/plain": [
       "(10, 'hello')"
      ]
     },
     "execution_count": 15,
     "metadata": {},
     "output_type": "execute_result"
    }
   ],
   "source": [
    "t2= 10,\"Hello\"\n",
    "print(t2)\n",
    "print(type(t2))\n",
    "(10,'hello')"
   ]
  },
  {
   "cell_type": "code",
   "execution_count": 23,
   "id": "dff17136-59c7-43d5-9dfc-1fce635aaffd",
   "metadata": {},
   "outputs": [
    {
     "name": "stdout",
     "output_type": "stream",
     "text": [
      "(5.3,)\n"
     ]
    }
   ],
   "source": [
    "t3 = (5.3,)\n",
    "print (t3)"
   ]
  },
  {
   "cell_type": "code",
   "execution_count": 25,
   "id": "9e756d1b-2855-4e3d-8887-a3da53953bed",
   "metadata": {},
   "outputs": [
    {
     "name": "stdout",
     "output_type": "stream",
     "text": [
      "<class 'tuple'>\n"
     ]
    }
   ],
   "source": [
    "print(type(t3))"
   ]
  },
  {
   "cell_type": "code",
   "execution_count": 21,
   "id": "9c54fc66-f647-4e41-bcba-bb72f8431b53",
   "metadata": {},
   "outputs": [],
   "source": [
    "#tuples should be comma separated"
   ]
  },
  {
   "cell_type": "code",
   "execution_count": 27,
   "id": "f62cdccb-37a8-4ffb-b9b4-9adf28cffdc8",
   "metadata": {},
   "outputs": [
    {
     "name": "stdout",
     "output_type": "stream",
     "text": [
      "('h', 'e', 'l', 'l', 'o')\n"
     ]
    }
   ],
   "source": [
    "t4= tuple('hello')  # tuple creation\n",
    "print(t4)"
   ]
  },
  {
   "cell_type": "code",
   "execution_count": 29,
   "id": "dd68781d-5c23-4302-a68a-7de3e7faaef7",
   "metadata": {},
   "outputs": [],
   "source": [
    "t5 = (t2,t1)"
   ]
  },
  {
   "cell_type": "code",
   "execution_count": 31,
   "id": "651ea749-39a1-441c-93a9-facfc9f9f51c",
   "metadata": {},
   "outputs": [
    {
     "name": "stdout",
     "output_type": "stream",
     "text": [
      "((10, 'Hello'), (2, 'Nisha', 8.2))\n"
     ]
    }
   ],
   "source": [
    "print(t5)"
   ]
  },
  {
   "cell_type": "code",
   "execution_count": 35,
   "id": "e5904e0c-3477-4d9d-8d6f-3b23e8161ee1",
   "metadata": {},
   "outputs": [
    {
     "name": "stdout",
     "output_type": "stream",
     "text": [
      "((2, 'Nisha', 8.2), (10, 'Hello'))\n"
     ]
    }
   ],
   "source": [
    "tq = (t1,t2)\n",
    "print(tq)"
   ]
  },
  {
   "cell_type": "code",
   "execution_count": 49,
   "id": "5d22559b-0c82-41f1-8af9-b82e7d434658",
   "metadata": {},
   "outputs": [
    {
     "name": "stdout",
     "output_type": "stream",
     "text": [
      "(3, 'Nisha', 5.4, 8, 6, 15)\n",
      "(3, 'Nisha', 5.4)\n",
      "(5.4, 8, 6)\n",
      "15\n"
     ]
    }
   ],
   "source": [
    "t7 = (3,'Nisha',5.4,8,6,15)     \n",
    "print(t7)              # indexing/slicing\n",
    "print(t7[0:3])         # to print particular values of tuple\n",
    "print(t7[-4:-1])\n",
    "print(t7[-1])"
   ]
  },
  {
   "cell_type": "code",
   "execution_count": 53,
   "id": "59847d82-b150-4418-b449-805666c12561",
   "metadata": {},
   "outputs": [
    {
     "name": "stdout",
     "output_type": "stream",
     "text": [
      "3\n"
     ]
    }
   ],
   "source": [
    "a,b,c,d,e,f = t7  #unpacking\n",
    "print(a)"
   ]
  },
  {
   "cell_type": "code",
   "execution_count": 63,
   "id": "d2942ca9-9962-4249-bc49-7a3872d62cb0",
   "metadata": {},
   "outputs": [
    {
     "ename": "TypeError",
     "evalue": "'tuple' object doesn't support item deletion",
     "output_type": "error",
     "traceback": [
      "\u001b[1;31m---------------------------------------------------------------------------\u001b[0m",
      "\u001b[1;31mTypeError\u001b[0m                                 Traceback (most recent call last)",
      "Cell \u001b[1;32mIn[63], line 1\u001b[0m\n\u001b[1;32m----> 1\u001b[0m \u001b[38;5;28;01mdel\u001b[39;00m t7[\u001b[38;5;241m0\u001b[39m]  \u001b[38;5;66;03m# tuple does not support item deletion\u001b[39;00m\n\u001b[0;32m      2\u001b[0m \u001b[38;5;28;01mdel\u001b[39;00m t7\n",
      "\u001b[1;31mTypeError\u001b[0m: 'tuple' object doesn't support item deletion"
     ]
    }
   ],
   "source": [
    "del t7[0]  # tuple does not support item deletion"
   ]
  },
  {
   "cell_type": "code",
   "execution_count": 65,
   "id": "d4d1b2b7-30eb-44e5-9601-cbddb8f1ce7b",
   "metadata": {},
   "outputs": [],
   "source": [
    "del(t7)   "
   ]
  },
  {
   "cell_type": "code",
   "execution_count": 67,
   "id": "ab4de06f-bf0b-4e9a-902d-5906e649df11",
   "metadata": {},
   "outputs": [
    {
     "ename": "NameError",
     "evalue": "name 't7' is not defined",
     "output_type": "error",
     "traceback": [
      "\u001b[1;31m---------------------------------------------------------------------------\u001b[0m",
      "\u001b[1;31mNameError\u001b[0m                                 Traceback (most recent call last)",
      "Cell \u001b[1;32mIn[67], line 1\u001b[0m\n\u001b[1;32m----> 1\u001b[0m \u001b[38;5;28mprint\u001b[39m(t7)\n",
      "\u001b[1;31mNameError\u001b[0m: name 't7' is not defined"
     ]
    }
   ],
   "source": [
    "print(t7)"
   ]
  },
  {
   "cell_type": "code",
   "execution_count": null,
   "id": "2d57956a-a90c-47c9-ab7e-c7638c080c59",
   "metadata": {},
   "outputs": [],
   "source": []
  }
 ],
 "metadata": {
  "kernelspec": {
   "display_name": "Python 3 (ipykernel)",
   "language": "python",
   "name": "python3"
  },
  "language_info": {
   "codemirror_mode": {
    "name": "ipython",
    "version": 3
   },
   "file_extension": ".py",
   "mimetype": "text/x-python",
   "name": "python",
   "nbconvert_exporter": "python",
   "pygments_lexer": "ipython3",
   "version": "3.12.4"
  }
 },
 "nbformat": 4,
 "nbformat_minor": 5
}
